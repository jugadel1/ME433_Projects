{
 "cells": [
  {
   "cell_type": "code",
   "execution_count": 7,
   "metadata": {},
   "outputs": [
    {
     "name": "stdout",
     "output_type": "stream",
     "text": [
      "Opening port: \n",
      "COM4\n"
     ]
    },
    {
     "ename": "ValueError",
     "evalue": "invalid literal for int() with base 10: '31.1129'",
     "output_type": "error",
     "traceback": [
      "\u001b[1;31m---------------------------------------------------------------------------\u001b[0m",
      "\u001b[1;31mValueError\u001b[0m                                Traceback (most recent call last)",
      "\u001b[1;32m~\\AppData\\Local\\Temp\\ipykernel_17460\\526292649.py\u001b[0m in \u001b[0;36m<module>\u001b[1;34m\u001b[0m\n\u001b[0;32m     21\u001b[0m     \u001b[0mdata_read\u001b[0m \u001b[1;33m=\u001b[0m \u001b[0mser\u001b[0m\u001b[1;33m.\u001b[0m\u001b[0mread_until\u001b[0m\u001b[1;33m(\u001b[0m\u001b[1;34mb'\\n'\u001b[0m\u001b[1;33m,\u001b[0m\u001b[1;36m50\u001b[0m\u001b[1;33m)\u001b[0m \u001b[1;31m# read until newline\u001b[0m\u001b[1;33m\u001b[0m\u001b[1;33m\u001b[0m\u001b[0m\n\u001b[0;32m     22\u001b[0m     \u001b[0mdata_text\u001b[0m \u001b[1;33m=\u001b[0m \u001b[0mstr\u001b[0m\u001b[1;33m(\u001b[0m\u001b[0mdata_read\u001b[0m\u001b[1;33m,\u001b[0m\u001b[1;34m'utf-8'\u001b[0m\u001b[1;33m)\u001b[0m \u001b[1;31m# convert bytes to string\u001b[0m\u001b[1;33m\u001b[0m\u001b[1;33m\u001b[0m\u001b[0m\n\u001b[1;32m---> 23\u001b[1;33m     \u001b[0mdata\u001b[0m \u001b[1;33m=\u001b[0m \u001b[0mlist\u001b[0m\u001b[1;33m(\u001b[0m\u001b[0mmap\u001b[0m\u001b[1;33m(\u001b[0m\u001b[0mint\u001b[0m\u001b[1;33m,\u001b[0m\u001b[0mdata_text\u001b[0m\u001b[1;33m.\u001b[0m\u001b[0msplit\u001b[0m\u001b[1;33m(\u001b[0m\u001b[1;33m)\u001b[0m\u001b[1;33m)\u001b[0m\u001b[1;33m)\u001b[0m \u001b[1;31m# convert string to values\u001b[0m\u001b[1;33m\u001b[0m\u001b[1;33m\u001b[0m\u001b[0m\n\u001b[0m\u001b[0;32m     24\u001b[0m \u001b[1;33m\u001b[0m\u001b[0m\n\u001b[0;32m     25\u001b[0m     \u001b[1;32mif\u001b[0m\u001b[1;33m(\u001b[0m\u001b[0mlen\u001b[0m\u001b[1;33m(\u001b[0m\u001b[0mdata\u001b[0m\u001b[1;33m)\u001b[0m\u001b[1;33m==\u001b[0m\u001b[1;36m2\u001b[0m\u001b[1;33m)\u001b[0m\u001b[1;33m:\u001b[0m\u001b[1;33m\u001b[0m\u001b[1;33m\u001b[0m\u001b[0m\n",
      "\u001b[1;31mValueError\u001b[0m: invalid literal for int() with base 10: '31.1129'"
     ]
    }
   ],
   "source": [
    "import numpy as np\n",
    "# get a line of raw bitmap and plot the components\n",
    "import serial\n",
    "ser = serial.Serial('COM4',230400) # the name of your Pico port\n",
    "print('Opening port: ')\n",
    "print(ser.name)\n",
    "\n",
    "ser.write(b'hi\\r\\n') # send a newline to request data\n",
    "data_read = ser.read_until(b'\\n',50) # read the echo\n",
    "\n",
    "sampnum = 0\n",
    "index = 0\n",
    "raw = []\n",
    "reds = []\n",
    "greens = []\n",
    "blues = []\n",
    "bright = []\n",
    "\n",
    "# Pico sends back index and raw pixel value\n",
    "while sampnum < 60: # width of bitmap\n",
    "    data_read = ser.read_until(b'\\n',50) # read until newline\n",
    "    data_text = str(data_read,'utf-8') # convert bytes to string\n",
    "    data = list(map(int,data_text.split())) # convert string to values\n",
    "\n",
    "    if(len(data)==2):\n",
    "        index = data[0]\n",
    "        raw.append(data[1])\n",
    "        reds.append(((data[1]>>5)&0x3F)/0x3F*100) # red value is middle 6 bits\n",
    "        greens.append((data[1]&0x1F)/0x1F*100) # green value is rightmost 5 bits\n",
    "        blues.append(((data[1]>>11)&0x1F)/0x1F*100) # blue vale is leftmost 5 bits\n",
    "        bright.append((data[1]&0x1F)+((data[1]>>5)&0x3F)+((data[1]>>11)&0x1F)) # sum of colors\n",
    "        sampnum = sampnum + 1\n",
    "\n",
    "# print the raw color as a 16bit binary to double check bitshifting\n",
    "for i in range(len(reds)):\n",
    "    print(f\"{raw[i]:#018b}\")\n",
    "\n",
    "# plot the colors \n",
    "import matplotlib.pyplot as plt \n",
    "x = range(len(reds)) # time array\n",
    "plt.plot(x,reds,'r.-',x,greens,'g.-',x,blues,'b.-')\n",
    "plt.ylabel('color')\n",
    "plt.xlabel('position')\n",
    "plt.show()\n",
    "\n",
    "# Threshold \n",
    "def COMf(data):\n",
    "    COM2 = 0\n",
    "    for i in range(60):\n",
    "        COM2 += (data[i]*i) / np.sum(data)\n",
    "    return COM2\n",
    "\n",
    "conv = np.convolve(np.convolve(reds,greens,mode='same'),blues,mode='same')\n",
    "\n",
    "c1 = np.convolve(reds,greens,mode='full')[29:90-1]\n",
    "c2 = np.convolve(reds,greens,mode='same')\n",
    "\n",
    "plt.plot(conv)\n",
    "print(COMf(conv))\n",
    "plt.show()\n",
    "\n",
    "grayImage = np.zeros(60)\n",
    "for i in range(60):\n",
    "        grayImage[i] = int(reds[i]*0.2126 + greens[i]*0.7152 + blues[i]*0.0722)\n",
    "for i in range(60):\n",
    "    if grayImage[i] < 30:\n",
    "        grayImage[i] = 0\n",
    "    elif grayImage[i] > 60:\n",
    "        grayImage[i] = 80\n",
    "\n",
    "plt.plot(x,grayImage,'g.-')\n",
    "plt.show()\n",
    "\n",
    "# be sure to close the port\n",
    "ser.close()"
   ]
  }
 ],
 "metadata": {
  "kernelspec": {
   "display_name": "base",
   "language": "python",
   "name": "python3"
  },
  "language_info": {
   "codemirror_mode": {
    "name": "ipython",
    "version": 3
   },
   "file_extension": ".py",
   "mimetype": "text/x-python",
   "name": "python",
   "nbconvert_exporter": "python",
   "pygments_lexer": "ipython3",
   "version": "3.9.13"
  },
  "orig_nbformat": 4
 },
 "nbformat": 4,
 "nbformat_minor": 2
}
